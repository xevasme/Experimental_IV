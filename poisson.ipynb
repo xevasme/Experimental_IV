{
 "cells": [
  {
   "cell_type": "code",
   "execution_count": 1,
   "id": "b4cfb7c9",
   "metadata": {},
   "outputs": [],
   "source": [
    "import numpy as np\n",
    "import matplotlib.pyplot as plt\n",
    "import pandas as pd\n",
    "from scipy import stats\n",
    "from scipy.stats import norm, poisson, binom, uniform, maxwell\n",
    "from scipy.interpolate import make_interp_spline"
   ]
  },
  {
   "cell_type": "code",
   "execution_count": null,
   "id": "7a01d87d",
   "metadata": {},
   "outputs": [
    {
     "data": {
      "text/plain": [
       "np.float64(5.5)"
      ]
     },
     "execution_count": 8,
     "metadata": {},
     "output_type": "execute_result"
    }
   ],
   "source": [
    "## valores radiacion de fondo\n",
    "\n",
    "# definimos un arreglo con el intervalo de tiempo por cada 3 eventos\n",
    "\n",
    "tiempo = np.array([7100,5344,])\n",
    "tiempo_promedio =  np.mean(tiempo)\n",
    "tiempo_promedio"
   ]
  },
  {
   "cell_type": "code",
   "execution_count": null,
   "id": "0546010f",
   "metadata": {},
   "outputs": [],
   "source": [
    "## 30 medidas con el tiempo promedio calculado\n",
    "tiempo_promedio\n",
    "conteos = np.array([])"
   ]
  },
  {
   "cell_type": "code",
   "execution_count": null,
   "id": "e52dd6dd",
   "metadata": {},
   "outputs": [],
   "source": [
    "\n",
    "# Supón que este es tu arreglo de conteos por intervalo de tiempo\n",
    "conteo = np.array([3, 2, 4, 3, 5, 4, 3, 2, 4, 5, 6, 3, 4, 2, 3])\n",
    "\n",
    "# 1. Histograma\n",
    "valores, frecuencias = np.unique(conteo, return_counts=True)\n",
    "\n",
    "# 2. Media muestral\n",
    "media_muestral = np.mean(conteo)\n",
    "\n",
    "# 3. Distribución de Poisson teórica\n",
    "poisson_teorica = poisson.pmf(valores, mu=media_muestral) * len(conteo)  # escala a número total de datos\n",
    "\n",
    "# 4. Graficar histograma + ajuste de Poisson\n",
    "plt.bar(valores, frecuencias, width=0.6, alpha=0.6, label=\"Datos (frecuencia)\")\n",
    "#999999999999999999999999999999999999999999999999999999999999999plt.plot(valores, poisson_teorica, 'o-', color='red', label=f\"Poisson(λ={media_muestral:.2f})\")\n",
    "plt.xlabel(\"Número de cuentas por intervalo\")\n",
    "plt.ylabel(\"Frecuencia\")\n",
    "plt.title(\"Histograma vs Distribución de Poisson\")\n",
    "plt.legend()\n",
    "plt.grid(True)\n",
    "plt.show()\n",
    "\n",
    "# 5. Prueba de Chi-cuadrado\n",
    "chi2, p = chisquare(f_obs=frecuencias, f_exp=poisson_teorica)\n",
    "\n",
    "print(f\"Chi-cuadrado = {chi2:.2f}\")\n",
    "print(f\"Valor-p = {p:.4f}\")\n",
    "\n",
    "if p > 0.05:\n",
    "    print(\"El ajuste a la distribución de Poisson es adecuado (p > 0.05).\")\n",
    "else:\n",
    "    print(\"El ajuste a la distribución de Poisson NO es adecuado (p ≤ 0.05).\")\n"
   ]
  }
 ],
 "metadata": {
  "kernelspec": {
   "display_name": "Python 3",
   "language": "python",
   "name": "python3"
  },
  "language_info": {
   "codemirror_mode": {
    "name": "ipython",
    "version": 3
   },
   "file_extension": ".py",
   "mimetype": "text/x-python",
   "name": "python",
   "nbconvert_exporter": "python",
   "pygments_lexer": "ipython3",
   "version": "3.13.0"
  }
 },
 "nbformat": 4,
 "nbformat_minor": 5
}
