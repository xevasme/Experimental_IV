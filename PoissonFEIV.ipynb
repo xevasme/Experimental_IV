{
  "nbformat": 4,
  "nbformat_minor": 0,
  "metadata": {
    "colab": {
      "private_outputs": true,
      "provenance": [],
      "authorship_tag": "ABX9TyOZKXqnlzZ1IWLsxJbEq/3j",
      "include_colab_link": true
    },
    "kernelspec": {
      "name": "python3",
      "display_name": "Python 3"
    },
    "language_info": {
      "name": "python"
    }
  },
  "cells": [
    {
      "cell_type": "markdown",
      "metadata": {
        "id": "view-in-github",
        "colab_type": "text"
      },
      "source": [
        "<a href=\"https://colab.research.google.com/github/xevasme/Experimental_IV/blob/main/PoissonFEIV.ipynb\" target=\"_parent\"><img src=\"https://colab.research.google.com/assets/colab-badge.svg\" alt=\"Open In Colab\"/></a>"
      ]
    },
    {
      "cell_type": "code",
      "execution_count": null,
      "metadata": {
        "id": "dMR3gKdlFeJe"
      },
      "outputs": [],
      "source": [
        "import numpy as np\n",
        "import matplotlib.pyplot as plt\n",
        "import pandas as pd\n",
        "from scipy.stats import norm\n",
        "from scipy.stats import poisson"
      ]
    },
    {
      "cell_type": "code",
      "source": [
        "#Funcion para el histograma\n",
        "def Histograma(url , title): #url y title son cadenas\n",
        "\n",
        "    datos = pd.read_csv(url)\n",
        "    datos.columns.values[0] = '1'\n",
        "    datos[\"1\"] = datos[\"1\"].astype('int')\n",
        "    mu = np.mean(datos)\n",
        "\n",
        "    x = np.arange(min(datos[\"1\"])-2, max(datos[\"1\"])+2)\n",
        "    pmf = poisson.pmf(x, mu)\n",
        "\n",
        "\n",
        "    fig, ax = plt.subplots(figsize=(10, 6))\n",
        "    ax.hist(datos, bins=20, color='purple', alpha=0.75, edgecolor='black', density = True)\n",
        "    ax.plot(x, pmf, label = f'Distribución de Poisson (μ = {mu})')\n",
        "    ax.set_title(title, fontsize=14, fontweight=\"bold\")\n",
        "    ax.set_xlabel(\"Número de eventos detectados\", fontsize=12)\n",
        "    ax.set_ylabel(\"Probabilidad\", fontsize=12)\n",
        "    ax.legend()\n",
        "    ax.grid(True, linestyle=\"--\", alpha=0.6)\n",
        "    plt.show()"
      ],
      "metadata": {
        "id": "FR-sobkwwyyx"
      },
      "execution_count": null,
      "outputs": []
    },
    {
      "cell_type": "code",
      "source": [
        "#Funcion para Comprobar si se ajusta o no con la distribucion de poisson\n",
        "def ajuste(x, url): #x es el valor de nuestro Xalpha que depende de los datos\n",
        "\n",
        "    datos = pd.read_csv(url)\n",
        "    datos.columns.values[0] = '1'\n",
        "    datos[\"1\"] = datos[\"1\"].astype('int')\n",
        "    N = len(datos[\"1\"])\n",
        "    mu = np.mean(datos[\"1\"])\n",
        "\n",
        "    rango =  np.arange(min(datos[\"1\"]), max(datos[\"1\"])) #rango de datos obtenidos  (·cantidad de particulas detectadas en un intervalo de tiempo)\n",
        "    pmf = poisson.pmf(rango, mu) #resultados teoricos de probabilidad ESPERADOS\n",
        "\n",
        "    X2 = 0   #CHI CUADRADO\n",
        "    for i in rango:\n",
        "      probabilidad = int((datos['1'] == i).sum()) / N   #Datos Tomados EXPERIMENTALMENTE\n",
        "      if probabilidad != 0:       #Las propabilidades cero no hacen parte de los datos que tomamos, de modo que se descartan\n",
        "        X2 += (probabilidad - pmf[i] )**2 / pmf[i]\n",
        "\n",
        "#Ho los datos observados tienen la distribución de poisson\n",
        "#Ha Los datos no tienen la distribucion de poisson\n",
        "    n , alpha = len(rango) , 0.05  #n es el numero de muestras y alpha el nivel de confianza\n",
        "    Xalpha = x\n",
        "\n",
        "    if X2 < Xalpha :\n",
        "        print(f\"Los datos se ajustan a la distribucion de poisson\")\n",
        "    else:\n",
        "        print(\"Los datos no se ajustan a la distribucion de poisson\")"
      ],
      "metadata": {
        "id": "9rWViHGXyLvp"
      },
      "execution_count": null,
      "outputs": []
    },
    {
      "cell_type": "markdown",
      "source": [
        "#Fondo de Radiacion del Escintilador."
      ],
      "metadata": {
        "id": "geiorjHm73_5"
      }
    },
    {
      "cell_type": "code",
      "source": [
        "Histograma(\"https://raw.githubusercontent.com/xevasme/Experimental_IV/refs/heads/main/Estadistica_de_Poisson/%C3%9Altimos%20datos/fondo.txt\" , \"Fondo de radiacion del escintilador\")"
      ],
      "metadata": {
        "id": "eVjHGbf582h1"
      },
      "execution_count": null,
      "outputs": []
    },
    {
      "cell_type": "code",
      "source": [
        "#Analisis de datos\n",
        "conteo  = pd.read_csv(\"https://raw.githubusercontent.com/xevasme/Experimental_IV/refs/heads/main/Estadistica_de_Poisson/%C3%9Altimos%20datos/fondo.txt\")\n",
        "conteo = conteo[\"1\"].value_counts().sort_index()\n",
        "print(conteo)\n",
        "# de modo que observamos\n",
        "k, c = len(conteo) , max(conteo)-len(conteo) #¿???\n",
        "v = 9.49\n",
        "print(k,c,max(conteo))"
      ],
      "metadata": {
        "id": "3fXzXarzG6oB"
      },
      "execution_count": null,
      "outputs": []
    },
    {
      "cell_type": "code",
      "source": [
        "ajuste(v,\"https://raw.githubusercontent.com/xevasme/Experimental_IV/refs/heads/main/Estadistica_de_Poisson/%C3%9Altimos%20datos/fondo.txt\" )"
      ],
      "metadata": {
        "id": "5UDErnyUIt_J"
      },
      "execution_count": null,
      "outputs": []
    },
    {
      "cell_type": "markdown",
      "source": [
        "#Radiacion del Escintilador con Material RadioActivo (Americio)."
      ],
      "metadata": {
        "id": "mpgO1sdfI5ew"
      }
    },
    {
      "cell_type": "code",
      "source": [
        "Histograma(\"https://raw.githubusercontent.com/xevasme/Experimental_IV/refs/heads/main/Estadistica_de_Poisson/%C3%9Altimos%20datos/am_0cm.txt\" , \"(Americio) radiacion del escintilador\")"
      ],
      "metadata": {
        "id": "Xtz8uji2I5ey"
      },
      "execution_count": null,
      "outputs": []
    },
    {
      "cell_type": "code",
      "source": [
        "#Analisis de datos\n",
        "conteo = pd.read_csv(\"https://raw.githubusercontent.com/xevasme/Experimental_IV/refs/heads/main/Estadistica_de_Poisson/%C3%9Altimos%20datos/am_0cm.txt\")\n",
        "conteo.columns.values[0] = '1'\n",
        "conteo = conteo[\"1\"].value_counts().sort_index()\n",
        "print(conteo)\n",
        "# de modo que observamos\n",
        "k ,c = len(conteo) , max(conteo)-len(conteo) #¿???\n",
        "print(k,c)\n",
        "v = 9.49\n"
      ],
      "metadata": {
        "id": "eia6L5y4I5ez"
      },
      "execution_count": null,
      "outputs": []
    },
    {
      "cell_type": "code",
      "source": [
        "ajuste(v,\"https://raw.githubusercontent.com/xevasme/Experimental_IV/refs/heads/main/Estadistica_de_Poisson/%C3%9Altimos%20datos/fondo.txt\" )"
      ],
      "metadata": {
        "id": "07BNRMp_I5e0"
      },
      "execution_count": null,
      "outputs": []
    },
    {
      "cell_type": "markdown",
      "source": [
        "#Radiacion del Escintilador con Material RadioActivo (TH)."
      ],
      "metadata": {
        "id": "zsnik3-INe1l"
      }
    },
    {
      "cell_type": "code",
      "source": [
        "Histograma(\"https://raw.githubusercontent.com/xevasme/Experimental_IV/refs/heads/main/Estadistica_de_Poisson/%C3%9Altimos%20datos/th0cm.txt\" , \"(TH) radiacion del escintilador\")"
      ],
      "metadata": {
        "id": "_WpyNYXiNe1m"
      },
      "execution_count": null,
      "outputs": []
    },
    {
      "cell_type": "code",
      "source": [
        "#Analisis de datos\n",
        "conteo = pd.read_csv(\"https://raw.githubusercontent.com/xevasme/Experimental_IV/refs/heads/main/Estadistica_de_Poisson/%C3%9Altimos%20datos/th0cm.txt\")\n",
        "conteo.columns.values[0] = '1'\n",
        "conteo = conteo[\"1\"].value_counts().sort_index()\n",
        "print(conteo)\n",
        "# de modo que observamos\n",
        "k ,c = len(conteo) , max(conteo)-len(conteo) #¿???\n",
        "print(k,c)\n",
        "v = 9.49\n"
      ],
      "metadata": {
        "id": "x5zlNQjCNe1o"
      },
      "execution_count": null,
      "outputs": []
    },
    {
      "cell_type": "code",
      "source": [
        "ajuste(v,\"https://raw.githubusercontent.com/xevasme/Experimental_IV/refs/heads/main/Estadistica_de_Poisson/%C3%9Altimos%20datos/th0cm.txt\" )"
      ],
      "metadata": {
        "id": "pRdmR5JYNe1o"
      },
      "execution_count": null,
      "outputs": []
    }
  ]
}