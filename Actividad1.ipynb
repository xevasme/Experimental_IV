{
  "nbformat": 4,
  "nbformat_minor": 0,
  "metadata": {
    "colab": {
      "private_outputs": true,
      "provenance": [],
      "authorship_tag": "ABX9TyMICQ90isJm34xmf5DcIlAi",
      "include_colab_link": true
    },
    "kernelspec": {
      "name": "python3",
      "display_name": "Python 3"
    },
    "language_info": {
      "name": "python"
    }
  },
  "cells": [
    {
      "cell_type": "markdown",
      "metadata": {
        "id": "view-in-github",
        "colab_type": "text"
      },
      "source": [
        "<a href=\"https://colab.research.google.com/github/xevasme/Experimental_IV/blob/main/Actividad1.ipynb\" target=\"_parent\"><img src=\"https://colab.research.google.com/assets/colab-badge.svg\" alt=\"Open In Colab\"/></a>"
      ]
    },
    {
      "cell_type": "code",
      "execution_count": null,
      "metadata": {
        "id": "dMR3gKdlFeJe"
      },
      "outputs": [],
      "source": [
        "import numpy as np\n",
        "import matplotlib.pyplot as plt\n",
        "import pandas as pd\n",
        "from scipy.stats import norm\n",
        "from scipy.stats import poisson"
      ]
    },
    {
      "cell_type": "code",
      "source": [
        "#Funcion para el histograma\n",
        "def Histograma(url , title): #url y title son cadenas\n",
        "\n",
        "    datos = pd.read_csv(url)\n",
        "    datos[\"1\"] = datos[\"1\"].astype('int')\n",
        "    mu = np.mean(datos)\n",
        "\n",
        "    x = np.arange(min(datos[\"1\"])-2, max(datos[\"1\"])+2)\n",
        "    pmf = poisson.pmf(x, mu)\n",
        "\n",
        "\n",
        "    fig, ax = plt.subplots(figsize=(10, 6))\n",
        "    ax.hist(datos, bins=20, color='purple', alpha=0.75, edgecolor='black', density = True)\n",
        "    ax.plot(x, pmf, label = f'Distribución de Poisson (μ = {mu})')\n",
        "    ax.set_title(title, fontsize=14, fontweight=\"bold\")\n",
        "    ax.set_xlabel(\"Número de eventos detectados\", fontsize=12)\n",
        "    ax.set_ylabel(\"Probabilidad\", fontsize=12)\n",
        "    ax.legend()\n",
        "    ax.grid(True, linestyle=\"--\", alpha=0.6)\n",
        "    plt.show()"
      ],
      "metadata": {
        "id": "FR-sobkwwyyx"
      },
      "execution_count": null,
      "outputs": []
    },
    {
      "cell_type": "code",
      "source": [
        "#Funcion para Comprobar si se ajusta o no con la distribucion de poisson\n",
        "def ajuste(url):\n",
        "\n",
        "    datos = pd.read_csv(url)\n",
        "    datos[\"1\"] = datos[\"1\"].astype('int')\n",
        "    N = len(datos[\"1\"])\n",
        "    mu = np.mean(datos[\"1\"])\n",
        "\n",
        "    rango =  np.arange(min(datos[\"1\"]), max(datos[\"1\"])) #rango de datos obtenidos  (·cantidad de particulas detectadas en un intervalo de tiempo)\n",
        "    pmf = poisson.pmf(rango, mu) #resultados teoricos de probabilidad ESPERADOS\n",
        "\n",
        "    prob = []  #Resultados experimentales de probabilidad MEDIDOS\n",
        "    for x in rango:\n",
        "        prob.append(datos[\"1\"].count(x) / N)\n",
        "\n",
        "    #Ho = los datos se ajustan a la distribucion de poisson\n",
        "    #Ha = Los datos no se ajustan a la distribucion de poisson\n",
        "    dif = abs(pmf - np.array(prob)) #diferencia entre valores esperados teoricamente y valores tomados experimentalmente\n",
        "    Dist_max = max(dif)\n",
        "    n , alpha = len(rango) , 0.05  #n es el numero de muestras\n",
        "    Dist_esp = 1.358/(n**0.5)\n",
        "\n",
        "    if Dist_max < Dist_esp :\n",
        "        print(f\"Los datos se ajustan a la distribucion de poisson\")\n",
        "    else:\n",
        "        print(\"Los datos no se ajustan a la distribucion de poisson\")"
      ],
      "metadata": {
        "id": "9rWViHGXyLvp"
      },
      "execution_count": null,
      "outputs": []
    },
    {
      "cell_type": "markdown",
      "source": [
        "#Fondo de Radiacion del Escintilador."
      ],
      "metadata": {
        "id": "geiorjHm73_5"
      }
    },
    {
      "cell_type": "code",
      "source": [
        "Histograma(\"https://raw.githubusercontent.com/xevasme/Experimental_IV/refs/heads/main/Estadistica_de_Poisson/%C3%9Altimos%20datos/fondo.txt\" , \"Fondo de radiacion del escintilador\")"
      ],
      "metadata": {
        "id": "eVjHGbf582h1"
      },
      "execution_count": null,
      "outputs": []
    },
    {
      "cell_type": "markdown",
      "source": [],
      "metadata": {
        "id": "mejU4J75-cNS"
      }
    },
    {
      "cell_type": "code",
      "source": [
        "    datos = pd.read_csv(\"https://raw.githubusercontent.com/xevasme/Experimental_IV/refs/heads/main/Estadistica_de_Poisson/%C3%9Altimos%20datos/fondo.txt\")\n",
        "    datos[\"1\"] = datos[\"1\"].astype('int')\n",
        "    N = len(datos[\"1\"])\n",
        "    mu = np.mean(datos[\"1\"])\n"
      ],
      "metadata": {
        "id": "Rfi2G5YU-jyq"
      },
      "execution_count": null,
      "outputs": []
    },
    {
      "cell_type": "code",
      "source": [
        "\n",
        "    rango =  np.arange(min(datos[\"1\"]), max(datos[\"1\"])) #rango de datos obtenidos  (·cantidad de particulas detectadas en un intervalo de tiempo)\n",
        "    pmf = poisson.pmf(rango, mu) #resultados teoricos de probabilidad ESPERADOS\n",
        "\n",
        "    prob = []  #Resultados experimentales de probabilidad MEDIDOS\n",
        "    for x in rango:\n",
        "        prob.append(datos[\"1\"].count(x) / N)\n",
        "\n",
        "    #Ho = los datos se ajustan a la distribucion de poisson\n",
        "    #Ha = Los datos no se ajustan a la distribucion de poisson\n",
        "    dif = abs(pmf - np.array(prob)) #diferencia entre valores esperados teoricamente y valores tomados experimentalmente\n",
        "    Dist_max = max(dif)\n",
        "    n , alpha = len(rango) , 0.05  #n es el numero de muestras\n",
        "    Dist_esp = 1.358/(n**0.5)\n",
        "\n",
        "    if Dist_max < Dist_esp :\n",
        "        print(f\"Los datos se ajustan a la distribucion de poisson\")\n",
        "    else:\n",
        "        print(\"Los datos no se ajustan a la distribucion de poisson\")"
      ],
      "metadata": {
        "id": "7kNQr5HbEdEE"
      },
      "execution_count": null,
      "outputs": []
    }
  ]
}