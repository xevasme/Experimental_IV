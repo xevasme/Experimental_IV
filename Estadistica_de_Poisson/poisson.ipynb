{
  "cells": [
    {
      "cell_type": "markdown",
      "id": "dc109c2f",
      "metadata": {
        "id": "dc109c2f"
      },
      "source": [
        "## 📌 Informe de Laboratorio\n",
        "  ###  Estadística de Poisson: Tubo Escintilador\n",
        "\n",
        "        Física Experimental IV\n",
        "\n",
        "\n",
        "### 👥 **Integrantes del grupo:**\n",
        "\n",
        "- Sofia Moscoso ortiz\n",
        "- Juan Esteban Garces Duran\n",
        "- Sebastian Eladio Mena Torres\n",
        "---"
      ]
    },
    {
      "cell_type": "code",
      "execution_count": 1,
      "id": "ee7d9a9d",
      "metadata": {
        "id": "ee7d9a9d"
      },
      "outputs": [],
      "source": [
        "import numpy as np\n",
        "import matplotlib.pyplot as plt\n",
        "import pandas as pd\n",
        "from scipy import stats\n",
        "from scipy.stats import norm, poisson, binom, uniform, maxwell\n",
        "from scipy.interpolate import make_interp_spline"
      ]
    },
    {
      "cell_type": "markdown",
      "id": "5805f6fe",
      "metadata": {
        "id": "5805f6fe"
      },
      "source": [
        "## Resumen\n",
        "En este experimento se analiza la radiación de fondo medida por un tubo escintilador, usando estadística de Poisson para caracterizarla. Se compara la radiación medida con y sin muestra para determinar si la muestra presenta actividad radiactiva.\n"
      ]
    },
    {
      "cell_type": "markdown",
      "id": "e2f54ac8",
      "metadata": {
        "id": "e2f54ac8"
      },
      "source": [
        "## Introducción\n",
        "El tubo escintilador permite detectar radiación ionizante mediante la emisión de fotones al impactar el escintilador, los cuales son amplificados por un fotomultiplicador. La radiación de fondo está presente en todo momento y debe caracterizarse para distinguirla de señales provenientes de muestras activas. Este informe presenta un análisis estadístico usando la distribución de Poisson, adecuada para procesos aleatorios de conteo como el decaimiento radiactivo.\n"
      ]
    },
    {
      "cell_type": "markdown",
      "id": "eefd052a",
      "metadata": {
        "id": "eefd052a"
      },
      "source": [
        "## Materiales y Métodos\n",
        "- Tubo escintilador\n",
        "- Fuente de alimentación\n",
        "- Amplificador\n",
        "- Cronómetro\n",
        "- Computador con Python y librerías: pandas, numpy, matplotlib, scipy\n",
        "\n",
        "**Procedimiento:**\n",
        "1. Se midió el tiempo necesario para detectar 3 conteos, repitiendo 10 veces.\n",
        "2. Se calculó el promedio de estos tiempos y se fijó como intervalo estándar.\n",
        "3. Se tomaron 30 conteos de fondo y 30 con muestra usando ese intervalo.\n",
        "4. Se construyeron histogramas y se compararon con la distribución de Poisson.\n",
        "5. Se aplicó una prueba de chi-cuadrado para evaluar el ajuste.\n"
      ]
    },
    {
      "cell_type": "markdown",
      "id": "5826b37e",
      "metadata": {
        "id": "5826b37e"
      },
      "source": [
        "## Resultados\n",
        "Se presentan a continuación los histogramas obtenidos y la media de los conteos:\n",
        "- Media del fondo: ____________\n",
        "- Media con muestra: ____________\n",
        "- p-valor (chi-cuadrado): ____________\n",
        "Insertar aquí las gráficas generadas.\n"
      ]
    },
    {
      "cell_type": "code",
      "execution_count": null,
      "id": "5abdc7d3",
      "metadata": {
        "id": "5abdc7d3"
      },
      "outputs": [],
      "source": []
    },
    {
      "cell_type": "markdown",
      "id": "7c670678",
      "metadata": {
        "id": "7c670678"
      },
      "source": [
        "## Discusión\n",
        "Los resultados muestran que ____________. Se observa que el ajuste a la distribución de Poisson fue adecuado/inadecuado según el valor del p-valor. Las posibles fuentes de error incluyen: variaciones ambientales, tiempo de integración impreciso, sensibilidad del detector, etc.\n"
      ]
    },
    {
      "cell_type": "code",
      "execution_count": null,
      "id": "0fabd742",
      "metadata": {
        "id": "0fabd742"
      },
      "outputs": [],
      "source": []
    },
    {
      "cell_type": "markdown",
      "id": "b23a0d1c",
      "metadata": {
        "id": "b23a0d1c"
      },
      "source": [
        "## Conclusiones\n",
        "Se concluye que ____________. La caracterización estadística de la radiación de fondo es fundamental para determinar si una muestra presenta actividad radiactiva de manera confiable.\n"
      ]
    },
    {
      "cell_type": "markdown",
      "source": [
        "Pruebita"
      ],
      "metadata": {
        "id": "rzVnRGfbRHCp"
      },
      "id": "rzVnRGfbRHCp"
    },
    {
      "cell_type": "code",
      "source": [],
      "metadata": {
        "id": "8Y2Ex7epRIMw"
      },
      "id": "8Y2Ex7epRIMw",
      "execution_count": null,
      "outputs": []
    }
  ],
  "metadata": {
    "kernelspec": {
      "display_name": "Python 3",
      "language": "python",
      "name": "python3"
    },
    "language_info": {
      "codemirror_mode": {
        "name": "ipython",
        "version": 3
      },
      "file_extension": ".py",
      "mimetype": "text/x-python",
      "name": "python",
      "nbconvert_exporter": "python",
      "pygments_lexer": "ipython3",
      "version": "3.13.0"
    },
    "colab": {
      "provenance": []
    }
  },
  "nbformat": 4,
  "nbformat_minor": 5
}